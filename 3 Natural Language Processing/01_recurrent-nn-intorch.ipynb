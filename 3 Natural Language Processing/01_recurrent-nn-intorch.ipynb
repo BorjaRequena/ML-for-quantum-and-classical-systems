{
 "cells": [
  {
   "cell_type": "code",
   "execution_count": 1,
   "id": "18a19edd-822c-4a36-bdb5-3845979958a7",
   "metadata": {},
   "outputs": [
    {
     "data": {
      "text/plain": [
       "<torch._C.Generator at 0x7fb11cd8b050>"
      ]
     },
     "execution_count": 1,
     "metadata": {},
     "output_type": "execute_result"
    }
   ],
   "source": [
    "import numpy as np\n",
    "\n",
    "import torch\n",
    "import torch.nn as nn\n",
    "import torch.nn.functional as F\n",
    "import torch.optim as optim\n",
    "\n",
    "torch.manual_seed(1)"
   ]
  },
  {
   "cell_type": "markdown",
   "id": "b71201a5-02ca-4bd8-b83b-4aac4aac486d",
   "metadata": {},
   "source": [
    "# LSTM in torch"
   ]
  },
  {
   "cell_type": "markdown",
   "id": "1eedd7a5-94e6-4fac-814f-074f4697aade",
   "metadata": {},
   "source": [
    "This is a very simple notebook just to familiarize ourselves with the inputs and outputs of a recurrent neural network."
   ]
  },
  {
   "cell_type": "code",
   "execution_count": 2,
   "id": "ed1d02e4-5702-4fa8-bc3e-215f47b63c3d",
   "metadata": {},
   "outputs": [],
   "source": [
    "input_size = 5\n",
    "hidden_size = 3"
   ]
  },
  {
   "cell_type": "code",
   "execution_count": 3,
   "id": "25749fed-bbf2-42fc-b5da-694b5693ffcf",
   "metadata": {},
   "outputs": [],
   "source": [
    "lstm = nn.LSTM(input_size=input_size, hidden_size=hidden_size)  # Input dim is 3, output (=hidden) dim is 3\n",
    "# alternatively try a gated recurrent unit torch.GRU https://pytorch.org/docs/stable/generated/torch.nn.GRU.html\n",
    "# or a simple RNN https://pytorch.org/docs/stable/generated/torch.nn.RNN.html"
   ]
  },
  {
   "cell_type": "code",
   "execution_count": 4,
   "id": "5a49bdfc-10d0-4696-ae38-6c215b2c1dd0",
   "metadata": {},
   "outputs": [],
   "source": [
    "inputs = torch.cat([torch.randn(1,1,input_size) for _ in range(5)])  # make a sequence of length 5"
   ]
  },
  {
   "cell_type": "code",
   "execution_count": 5,
   "id": "d0877283-6641-49da-b807-711c279c577c",
   "metadata": {},
   "outputs": [
    {
     "data": {
      "text/plain": [
       "torch.Size([5, 1, 5])"
      ]
     },
     "execution_count": 5,
     "metadata": {},
     "output_type": "execute_result"
    }
   ],
   "source": [
    "inputs.shape # Sequence length, batch_size, embedding dimension (vector representation of a word in the sentence)"
   ]
  },
  {
   "cell_type": "code",
   "execution_count": 6,
   "id": "d23a22c5-59c8-422a-b258-c1388051356f",
   "metadata": {},
   "outputs": [],
   "source": [
    "# random initialization (optional, if nothing is given defaults to 0s)\n",
    "h0 = torch.randn(1, 1, 3) # hidden state\n",
    "c0 = torch.randn(1, 1, 3) # hidden cell state\n",
    "hidden = (h0, c0)"
   ]
  },
  {
   "cell_type": "code",
   "execution_count": 7,
   "id": "4000fcec-f72b-4eb8-87fd-a55f04e1daa3",
   "metadata": {},
   "outputs": [],
   "source": [
    "out, hidden = lstm(inputs, hidden)"
   ]
  },
  {
   "cell_type": "code",
   "execution_count": 8,
   "id": "50b59607-349c-4be3-bf88-b545801cd597",
   "metadata": {},
   "outputs": [
    {
     "name": "stdout",
     "output_type": "stream",
     "text": [
      "tensor([[[ 0.0350, -0.1568,  0.1137]],\n",
      "\n",
      "        [[ 0.2973, -0.2097,  0.2475]],\n",
      "\n",
      "        [[ 0.3209,  0.0711,  0.1950]],\n",
      "\n",
      "        [[ 0.4948,  0.1319,  0.1546]],\n",
      "\n",
      "        [[ 0.4059,  0.1276,  0.2292]]], grad_fn=<StackBackward>)\n",
      "(tensor([[[0.4059, 0.1276, 0.2292]]], grad_fn=<StackBackward>), tensor([[[0.7476, 0.2052, 0.7313]]], grad_fn=<StackBackward>))\n"
     ]
    }
   ],
   "source": [
    "print(out)\n",
    "print(hidden)"
   ]
  },
  {
   "cell_type": "markdown",
   "id": "88a5f91a-add8-4fcd-ae39-3bcf5dd5626b",
   "metadata": {},
   "source": [
    "`out` is the hidden state for each of the words in the sentence  \n",
    "`hidden` is the tuple `(h_final, c_final)` state of the *final* pass (the last word that was processed)"
   ]
  },
  {
   "cell_type": "code",
   "execution_count": null,
   "id": "b9386c77-2720-4b02-9eb8-1604a490159a",
   "metadata": {},
   "outputs": [],
   "source": []
  }
 ],
 "metadata": {
  "kernelspec": {
   "display_name": "Python 3",
   "language": "python",
   "name": "python3"
  },
  "language_info": {
   "codemirror_mode": {
    "name": "ipython",
    "version": 3
   },
   "file_extension": ".py",
   "mimetype": "text/x-python",
   "name": "python",
   "nbconvert_exporter": "python",
   "pygments_lexer": "ipython3",
   "version": "3.8.8"
  }
 },
 "nbformat": 4,
 "nbformat_minor": 5
}
