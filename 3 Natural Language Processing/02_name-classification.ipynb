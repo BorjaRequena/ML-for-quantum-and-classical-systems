{
 "cells": [
  {
   "cell_type": "markdown",
   "id": "08ce832f-1852-49a4-943b-48f4284e7a89",
   "metadata": {},
   "source": [
    "This is a reduced version of https://pytorch.org/tutorials/intermediate/char_rnn_classification_tutorial.html"
   ]
  },
  {
   "cell_type": "code",
   "execution_count": 1,
   "id": "52adbfa3-31ab-4b78-a004-ec5a767bfc2d",
   "metadata": {},
   "outputs": [],
   "source": [
    "from __future__ import unicode_literals, print_function, division\n",
    "from io import open\n",
    "import glob\n",
    "import os\n",
    "\n",
    "import numpy as np"
   ]
  },
  {
   "cell_type": "markdown",
   "id": "8786a054-bc9d-497f-90e2-b091800f1b8c",
   "metadata": {},
   "source": [
    "In this notebook, we classify names by their origin country. The task at hand is the following: Given an input sequence `input`. e.g. `[\"K\", \"o\", \"t\", \"t\", \"m\", \"a\", \"n\", \"n\"]`, define a neural network that approximates $p(\\text{country of origin} | \\text{input})$. We provide training data consisting of examples for `n_categories` $= 18$ different countries, so the output dimension of the neural network is `n_categories`. More details on this later."
   ]
  },
  {
   "cell_type": "markdown",
   "id": "8b0e06db-88af-4aae-9a75-1ef94e80b302",
   "metadata": {},
   "source": [
    "Here, we use a letter-based approach, which means we have the following correspondences  \n",
    "  * word $\\sim$ letter\n",
    "  * sentence $\\sim$ word\n",
    "\n",
    "So now an input sequence `[\"K\", \"o\", \"t\", \"t\", \"m\", \"a\", \"n\", \"n\"]` is on a character-level and our \"vocabulary\" is all the letters `abc..ABC..` + special characters `<space>.,:;'`  \n",
    "The following code block defines the vocabulary, reads in the data and processes it so we can use it (this is rather technical and should not be our main focus)"
   ]
  },
  {
   "cell_type": "code",
   "execution_count": 2,
   "id": "b0854155-5a6e-4d89-b541-648026e118b7",
   "metadata": {},
   "outputs": [
    {
     "name": "stdout",
     "output_type": "stream",
     "text": [
      "['data/names/Polish.txt', 'data/names/Czech.txt', 'data/names/Japanese.txt', 'data/names/Scottish.txt', 'data/names/French.txt', 'data/names/Chinese.txt', 'data/names/Portuguese.txt', 'data/names/Arabic.txt', 'data/names/German.txt', 'data/names/Greek.txt', 'data/names/Russian.txt', 'data/names/Italian.txt', 'data/names/Spanish.txt', 'data/names/English.txt', 'data/names/Dutch.txt', 'data/names/Korean.txt', 'data/names/Vietnamese.txt', 'data/names/Irish.txt']\n",
      "Slusarski\n"
     ]
    }
   ],
   "source": [
    "def findFiles(path): return glob.glob(path)\n",
    "\n",
    "print(findFiles('data/names/*.txt'))\n",
    "\n",
    "import unicodedata\n",
    "import string\n",
    "\n",
    "all_letters = string.ascii_letters + \" .,;'\"\n",
    "n_letters = len(all_letters)\n",
    "\n",
    "# Turn a Unicode string to plain ASCII, thanks to https://stackoverflow.com/a/518232/2809427\n",
    "def unicodeToAscii(s):\n",
    "    return ''.join(\n",
    "        c for c in unicodedata.normalize('NFD', s)\n",
    "        if unicodedata.category(c) != 'Mn'\n",
    "        and c in all_letters\n",
    "    )\n",
    "\n",
    "print(unicodeToAscii('Ślusàrski'))\n",
    "\n",
    "# Build the category_lines dictionary, a list of names per language\n",
    "category_lines = {}\n",
    "all_categories = []\n",
    "\n",
    "# Read a file and split into lines\n",
    "def readLines(filename):\n",
    "    lines = open(filename, encoding='utf-8').read().strip().split('\\n')\n",
    "    return [unicodeToAscii(line) for line in lines]\n",
    "\n",
    "for filename in findFiles('data/names/*.txt'):\n",
    "    category = os.path.splitext(os.path.basename(filename))[0]\n",
    "    all_categories.append(category)\n",
    "    lines = readLines(filename)\n",
    "    category_lines[category] = lines\n",
    "\n",
    "n_categories = len(all_categories)"
   ]
  },
  {
   "cell_type": "markdown",
   "id": "27c569a1-795e-4a28-a952-689292f0bd9a",
   "metadata": {},
   "source": [
    "`category_lines` is now a dictionary containing languages as keywords, and a list of all names from data as keys"
   ]
  },
  {
   "cell_type": "code",
   "execution_count": 3,
   "id": "6fe806c6-591a-42f4-8fed-2f77adf20431",
   "metadata": {},
   "outputs": [
    {
     "name": "stdout",
     "output_type": "stream",
     "text": [
      "['Adamczak', 'Adamczyk', 'Andrysiak', 'Auttenberg', 'Bartosz', 'Bernard', 'Bobienski', 'Bosko', 'Broz', 'Brzezicki', 'Budny', 'Bukoski', 'Bukowski', 'Chlebek', 'Chmiel', 'Czajka', 'Czajkowski', 'Dubanowski', 'Dubicki', 'Dunajski', 'Dziedzic', 'Fabian', 'Filipek', 'Filipowski', 'Gajos', 'Gniewek', 'Gomolka', 'Gomulka', 'Gorecki', 'Gorka', 'Gorski', 'Grzeskiewicz', 'Gwozdek', 'Jagoda', 'Janda', 'Janowski', 'Jaskolski', 'Jaskulski', 'Jedynak', 'Jelen', 'Jez', 'Jordan', 'Kaczka', 'Kaluza', 'Kaminski', 'Kasprzak', 'Kava', 'Kedzierski', 'Kijek', 'Klimek', 'Kosmatka', 'Kowalczyk', 'Kowalski', 'Koziol', 'Kozlow', 'Kozlowski', 'Krakowski', 'Krol', 'Kumiega', 'Lawniczak', 'Lis', 'Majewski', 'Malinowski', 'Maly', 'Marek', 'Marszaek', 'Maslanka', 'Mencher', 'Miazga', 'Michel', 'Mikolajczak', 'Mozdzierz', 'Niemczyk', 'Niemec', 'Nosek', 'Nowak', 'Pakulski', 'Pasternack', 'Pasternak', 'Paszek', 'Piatek', 'Piontek', 'Pokorny', 'Poplawski', 'Rog', 'Rudaski', 'Rudawski', 'Rusnak', 'Rutkowski', 'Sadowski', 'Salomon', 'Serafin', 'Sienkiewicz', 'Sierzant', 'Sitko', 'Skala', 'Slaski', 'Slazak', 'Slusarczyk', 'Slusarski', 'Smolak', 'Sniegowski', 'Sobol', 'Sokal', 'Sokolof', 'Sokoloff', 'Sokolofsky', 'Sokolowski', 'Sokolsky', 'Sowka', 'Stanek', 'Starek', 'Stawski', 'Stolarz', 'Szczepanski', 'Szewc', 'Szwarc', 'Szweda', 'Szwedko', 'Walentowicz', 'Warszawski', 'Wawrzaszek', 'Wiater', 'Winograd', 'Winogrodzki', 'Wojda', 'Wojewodka', 'Wojewodzki', 'Wronski', 'Wyrick', 'Wyrzyk', 'Zabek', 'Zawisza', 'Zdunowski', 'Zdunowski', 'Zielinski', 'Ziemniak', 'Zientek', 'Zuraw']\n"
     ]
    }
   ],
   "source": [
    "print(category_lines[\"Polish\"])"
   ]
  },
  {
   "cell_type": "code",
   "execution_count": 4,
   "id": "dbacd4cf-f5bd-4804-85dc-a70c60fb8b9d",
   "metadata": {},
   "outputs": [
    {
     "name": "stdout",
     "output_type": "stream",
     "text": [
      "dict_keys(['Polish', 'Czech', 'Japanese', 'Scottish', 'French', 'Chinese', 'Portuguese', 'Arabic', 'German', 'Greek', 'Russian', 'Italian', 'Spanish', 'English', 'Dutch', 'Korean', 'Vietnamese', 'Irish'])\n"
     ]
    }
   ],
   "source": [
    "print(category_lines.keys())"
   ]
  },
  {
   "cell_type": "markdown",
   "id": "9aa4182d-61ea-4a4c-90b5-d97eb578ffb7",
   "metadata": {},
   "source": [
    "We now have to transform letters to vectors. We use a one-hot-encoding for that, giving each letter a unique vector. This is the most simple choice of an Embedding and brings many disavantages. Yet, it is sufficient for this example."
   ]
  },
  {
   "cell_type": "code",
   "execution_count": 5,
   "id": "af6d2e69-ab90-4698-bbe7-3cea8126c8aa",
   "metadata": {},
   "outputs": [
    {
     "name": "stdout",
     "output_type": "stream",
     "text": [
      "tensor([[0., 0., 0., 0., 0., 0., 0., 0., 0., 0., 0., 0., 0., 0., 0., 0., 0., 0.,\n",
      "         0., 0., 0., 0., 0., 0., 0., 0., 0., 0., 0., 0., 0., 0., 0., 0., 0., 1.,\n",
      "         0., 0., 0., 0., 0., 0., 0., 0., 0., 0., 0., 0., 0., 0., 0., 0., 0., 0.,\n",
      "         0., 0., 0.]])\n",
      "torch.Size([5, 1, 57])\n"
     ]
    }
   ],
   "source": [
    "import torch\n",
    "\n",
    "# Find letter index from all_letters, e.g. \"a\" = 0\n",
    "def letterToIndex(letter):\n",
    "    return all_letters.find(letter)\n",
    "\n",
    "# Just for demonstration, turn a letter into a <1 x n_letters> Tensor\n",
    "def letterToTensor(letter):\n",
    "    tensor = torch.zeros(1, n_letters)\n",
    "    tensor[0][letterToIndex(letter)] = 1\n",
    "    return tensor\n",
    "\n",
    "# Turn a line into a <line_length x 1 x n_letters>,\n",
    "# or an array of one-hot letter vectors\n",
    "def lineToTensor(line):\n",
    "    tensor = torch.zeros(len(line), 1, n_letters)\n",
    "    for li, letter in enumerate(line):\n",
    "        tensor[li][0][letterToIndex(letter)] = 1\n",
    "    return tensor\n",
    "\n",
    "print(letterToTensor('J'))\n",
    "\n",
    "print(lineToTensor('Jones').size())"
   ]
  },
  {
   "cell_type": "code",
   "execution_count": 6,
   "id": "41d557a6-a23f-4220-9c22-f2cbaf560261",
   "metadata": {},
   "outputs": [
    {
     "data": {
      "text/plain": [
       "57"
      ]
     },
     "execution_count": 6,
     "metadata": {},
     "output_type": "execute_result"
    }
   ],
   "source": [
    "len(all_letters) # this is our vocabulary size"
   ]
  },
  {
   "cell_type": "markdown",
   "id": "bff9041a-c8f8-411c-9aad-7f4a805e3a2e",
   "metadata": {},
   "source": [
    "A sequence `Jones` is then transformed to a sequence of $57-$dimensional vectors."
   ]
  },
  {
   "cell_type": "code",
   "execution_count": 7,
   "id": "f662ff25-55e3-4efc-b874-637640540a4b",
   "metadata": {},
   "outputs": [
    {
     "data": {
      "text/plain": [
       "tensor([[[0., 0., 0., 0., 0., 0., 0., 0., 0., 0., 0., 0., 0., 0., 0., 0., 0.,\n",
       "          0., 0., 0., 0., 0., 0., 0., 0., 0., 0., 0., 0., 0., 0., 0., 0., 0.,\n",
       "          0., 1., 0., 0., 0., 0., 0., 0., 0., 0., 0., 0., 0., 0., 0., 0., 0.,\n",
       "          0., 0., 0., 0., 0., 0.]],\n",
       "\n",
       "        [[0., 0., 0., 0., 0., 0., 0., 0., 0., 0., 0., 0., 0., 0., 1., 0., 0.,\n",
       "          0., 0., 0., 0., 0., 0., 0., 0., 0., 0., 0., 0., 0., 0., 0., 0., 0.,\n",
       "          0., 0., 0., 0., 0., 0., 0., 0., 0., 0., 0., 0., 0., 0., 0., 0., 0.,\n",
       "          0., 0., 0., 0., 0., 0.]],\n",
       "\n",
       "        [[0., 0., 0., 0., 0., 0., 0., 0., 0., 0., 0., 0., 0., 1., 0., 0., 0.,\n",
       "          0., 0., 0., 0., 0., 0., 0., 0., 0., 0., 0., 0., 0., 0., 0., 0., 0.,\n",
       "          0., 0., 0., 0., 0., 0., 0., 0., 0., 0., 0., 0., 0., 0., 0., 0., 0.,\n",
       "          0., 0., 0., 0., 0., 0.]],\n",
       "\n",
       "        [[0., 0., 0., 0., 1., 0., 0., 0., 0., 0., 0., 0., 0., 0., 0., 0., 0.,\n",
       "          0., 0., 0., 0., 0., 0., 0., 0., 0., 0., 0., 0., 0., 0., 0., 0., 0.,\n",
       "          0., 0., 0., 0., 0., 0., 0., 0., 0., 0., 0., 0., 0., 0., 0., 0., 0.,\n",
       "          0., 0., 0., 0., 0., 0.]],\n",
       "\n",
       "        [[0., 0., 0., 0., 0., 0., 0., 0., 0., 0., 0., 0., 0., 0., 0., 0., 0.,\n",
       "          0., 1., 0., 0., 0., 0., 0., 0., 0., 0., 0., 0., 0., 0., 0., 0., 0.,\n",
       "          0., 0., 0., 0., 0., 0., 0., 0., 0., 0., 0., 0., 0., 0., 0., 0., 0.,\n",
       "          0., 0., 0., 0., 0., 0.]]])"
      ]
     },
     "execution_count": 7,
     "metadata": {},
     "output_type": "execute_result"
    }
   ],
   "source": [
    "lineToTensor('Jones')"
   ]
  },
  {
   "cell_type": "markdown",
   "id": "f8b6ec47-db99-4f78-be30-18469ac79ccc",
   "metadata": {},
   "source": [
    " Note the second dimension is the batch_size, which for this example is just 1."
   ]
  },
  {
   "cell_type": "code",
   "execution_count": 8,
   "id": "57ac7775-310e-4244-bf1d-a5d6a7f70a80",
   "metadata": {},
   "outputs": [
    {
     "data": {
      "text/plain": [
       "torch.Size([5, 1, 57])"
      ]
     },
     "execution_count": 8,
     "metadata": {},
     "output_type": "execute_result"
    }
   ],
   "source": [
    "lineToTensor('Jones').shape"
   ]
  },
  {
   "cell_type": "markdown",
   "id": "103b1953-fabf-4e6a-831d-1799daa53c15",
   "metadata": {},
   "source": [
    "We now write a very simple `RNN` module that simply concatenates the `input` and previous `hidden` vector and linearly processes them"
   ]
  },
  {
   "cell_type": "code",
   "execution_count": 9,
   "id": "9d281036-bfce-4d5d-80f7-71006743fb34",
   "metadata": {},
   "outputs": [],
   "source": [
    "import torch.nn as nn\n",
    "\n",
    "class RNN(nn.Module):\n",
    "    def __init__(self, input_size, hidden_size, output_size):\n",
    "        super(RNN, self).__init__()\n",
    "\n",
    "        self.hidden_size = hidden_size\n",
    "\n",
    "        self.i2h = nn.Linear(input_size + hidden_size, hidden_size) # i2h = input to hidden - standard definitions for creating recurrent modules (I guess?)\n",
    "        self.i2o = nn.Linear(input_size + hidden_size, output_size) # i2o = input to out\n",
    "        self.softmax = nn.LogSoftmax(dim=1)\n",
    "\n",
    "    def forward(self, input, hidden):\n",
    "        combined = torch.cat((input, hidden), 1)\n",
    "        hidden = self.i2h(combined)\n",
    "        output = self.i2o(combined)\n",
    "        output = self.softmax(output)\n",
    "        return output, hidden\n",
    "\n",
    "    def initHidden(self):\n",
    "        return torch.zeros(1, self.hidden_size)\n",
    "\n",
    "n_hidden = 128\n",
    "rnn = RNN(n_letters, n_hidden, n_categories)"
   ]
  },
  {
   "cell_type": "markdown",
   "id": "55e2ceba-925c-4b78-8788-d81e4a9bb023",
   "metadata": {},
   "source": [
    "Note that here we are performing a classification task, so the output dimension of the RNN should be put to the number of categories."
   ]
  },
  {
   "cell_type": "code",
   "execution_count": 10,
   "id": "f391f268-765c-4e1a-8420-09c1cfd948d7",
   "metadata": {},
   "outputs": [],
   "source": [
    "input0 = letterToTensor('A')\n",
    "hidden = torch.zeros(1, n_hidden)\n",
    "\n",
    "output, next_hidden = rnn(input0, hidden)"
   ]
  },
  {
   "cell_type": "code",
   "execution_count": 11,
   "id": "9176478d-5b69-44cd-b993-641d0ace02e6",
   "metadata": {},
   "outputs": [
    {
     "name": "stdout",
     "output_type": "stream",
     "text": [
      "tensor([[-2.8856, -2.9056, -2.8053, -2.8622, -2.7920, -2.9512, -2.8236, -2.8995,\n",
      "         -2.9312, -3.0281, -2.8834, -2.8122, -2.8199, -2.9160, -2.8760, -3.0111,\n",
      "         -2.9806, -2.8836]], grad_fn=<LogSoftmaxBackward>)\n"
     ]
    }
   ],
   "source": [
    "print(output)"
   ]
  },
  {
   "cell_type": "markdown",
   "id": "466a6cda-9fe1-4be4-811b-5267a238657a",
   "metadata": {},
   "source": [
    "Note that this is a very simple implementation and does not have the sequential processing like the predefined torch RNN modules we have seen in the previous notebook. So inputting a sequence does not work. We have to implement the sequential character by hand for the evaluation and training later. Of course, it is advised / much easier to use the predefined `torch.nn.RNN`, `torch.nn.LSTM` and `torch.nn.GRU` modules."
   ]
  },
  {
   "cell_type": "code",
   "execution_count": 12,
   "id": "4f5b12b8-725a-44e4-afba-fa3764ae6293",
   "metadata": {},
   "outputs": [
    {
     "ename": "RuntimeError",
     "evalue": "torch.cat(): Tensors must have same number of dimensions: got 3 and 2",
     "output_type": "error",
     "traceback": [
      "\u001b[0;31m---------------------------------------------------------------------------\u001b[0m",
      "\u001b[0;31mRuntimeError\u001b[0m                              Traceback (most recent call last)",
      "\u001b[0;32m<ipython-input-12-00a0cb5ca76e>\u001b[0m in \u001b[0;36m<module>\u001b[0;34m\u001b[0m\n\u001b[1;32m      2\u001b[0m \u001b[0mhidden\u001b[0m \u001b[0;34m=\u001b[0m \u001b[0mtorch\u001b[0m\u001b[0;34m.\u001b[0m\u001b[0mzeros\u001b[0m\u001b[0;34m(\u001b[0m\u001b[0;36m1\u001b[0m\u001b[0;34m,\u001b[0m \u001b[0mn_hidden\u001b[0m\u001b[0;34m)\u001b[0m\u001b[0;34m\u001b[0m\u001b[0;34m\u001b[0m\u001b[0m\n\u001b[1;32m      3\u001b[0m \u001b[0;34m\u001b[0m\u001b[0m\n\u001b[0;32m----> 4\u001b[0;31m \u001b[0moutput\u001b[0m\u001b[0;34m,\u001b[0m \u001b[0mnext_hidden\u001b[0m \u001b[0;34m=\u001b[0m \u001b[0mrnn\u001b[0m\u001b[0;34m(\u001b[0m\u001b[0minput0\u001b[0m\u001b[0;34m,\u001b[0m \u001b[0mhidden\u001b[0m\u001b[0;34m)\u001b[0m\u001b[0;34m\u001b[0m\u001b[0;34m\u001b[0m\u001b[0m\n\u001b[0m\u001b[1;32m      5\u001b[0m \u001b[0;31m# dimensionality error, this rnn implementation is NOT built like torch.nn.RNN!\u001b[0m\u001b[0;34m\u001b[0m\u001b[0;34m\u001b[0m\u001b[0;34m\u001b[0m\u001b[0m\n",
      "\u001b[0;32m~/anaconda3/lib/python3.8/site-packages/torch/nn/modules/module.py\u001b[0m in \u001b[0;36m_call_impl\u001b[0;34m(self, *input, **kwargs)\u001b[0m\n\u001b[1;32m   1049\u001b[0m         if not (self._backward_hooks or self._forward_hooks or self._forward_pre_hooks or _global_backward_hooks\n\u001b[1;32m   1050\u001b[0m                 or _global_forward_hooks or _global_forward_pre_hooks):\n\u001b[0;32m-> 1051\u001b[0;31m             \u001b[0;32mreturn\u001b[0m \u001b[0mforward_call\u001b[0m\u001b[0;34m(\u001b[0m\u001b[0;34m*\u001b[0m\u001b[0minput\u001b[0m\u001b[0;34m,\u001b[0m \u001b[0;34m**\u001b[0m\u001b[0mkwargs\u001b[0m\u001b[0;34m)\u001b[0m\u001b[0;34m\u001b[0m\u001b[0;34m\u001b[0m\u001b[0m\n\u001b[0m\u001b[1;32m   1052\u001b[0m         \u001b[0;31m# Do not call functions when jit is used\u001b[0m\u001b[0;34m\u001b[0m\u001b[0;34m\u001b[0m\u001b[0;34m\u001b[0m\u001b[0m\n\u001b[1;32m   1053\u001b[0m         \u001b[0mfull_backward_hooks\u001b[0m\u001b[0;34m,\u001b[0m \u001b[0mnon_full_backward_hooks\u001b[0m \u001b[0;34m=\u001b[0m \u001b[0;34m[\u001b[0m\u001b[0;34m]\u001b[0m\u001b[0;34m,\u001b[0m \u001b[0;34m[\u001b[0m\u001b[0;34m]\u001b[0m\u001b[0;34m\u001b[0m\u001b[0;34m\u001b[0m\u001b[0m\n",
      "\u001b[0;32m<ipython-input-9-056713ad5b03>\u001b[0m in \u001b[0;36mforward\u001b[0;34m(self, input, hidden)\u001b[0m\n\u001b[1;32m     12\u001b[0m \u001b[0;34m\u001b[0m\u001b[0m\n\u001b[1;32m     13\u001b[0m     \u001b[0;32mdef\u001b[0m \u001b[0mforward\u001b[0m\u001b[0;34m(\u001b[0m\u001b[0mself\u001b[0m\u001b[0;34m,\u001b[0m \u001b[0minput\u001b[0m\u001b[0;34m,\u001b[0m \u001b[0mhidden\u001b[0m\u001b[0;34m)\u001b[0m\u001b[0;34m:\u001b[0m\u001b[0;34m\u001b[0m\u001b[0;34m\u001b[0m\u001b[0m\n\u001b[0;32m---> 14\u001b[0;31m         \u001b[0mcombined\u001b[0m \u001b[0;34m=\u001b[0m \u001b[0mtorch\u001b[0m\u001b[0;34m.\u001b[0m\u001b[0mcat\u001b[0m\u001b[0;34m(\u001b[0m\u001b[0;34m(\u001b[0m\u001b[0minput\u001b[0m\u001b[0;34m,\u001b[0m \u001b[0mhidden\u001b[0m\u001b[0;34m)\u001b[0m\u001b[0;34m,\u001b[0m \u001b[0;36m1\u001b[0m\u001b[0;34m)\u001b[0m\u001b[0;34m\u001b[0m\u001b[0;34m\u001b[0m\u001b[0m\n\u001b[0m\u001b[1;32m     15\u001b[0m         \u001b[0mhidden\u001b[0m \u001b[0;34m=\u001b[0m \u001b[0mself\u001b[0m\u001b[0;34m.\u001b[0m\u001b[0mi2h\u001b[0m\u001b[0;34m(\u001b[0m\u001b[0mcombined\u001b[0m\u001b[0;34m)\u001b[0m\u001b[0;34m\u001b[0m\u001b[0;34m\u001b[0m\u001b[0m\n\u001b[1;32m     16\u001b[0m         \u001b[0moutput\u001b[0m \u001b[0;34m=\u001b[0m \u001b[0mself\u001b[0m\u001b[0;34m.\u001b[0m\u001b[0mi2o\u001b[0m\u001b[0;34m(\u001b[0m\u001b[0mcombined\u001b[0m\u001b[0;34m)\u001b[0m\u001b[0;34m\u001b[0m\u001b[0;34m\u001b[0m\u001b[0m\n",
      "\u001b[0;31mRuntimeError\u001b[0m: torch.cat(): Tensors must have same number of dimensions: got 3 and 2"
     ]
    }
   ],
   "source": [
    "input0 = lineToTensor('Albert')\n",
    "hidden = torch.zeros(1, n_hidden)\n",
    "\n",
    "output, next_hidden = rnn(input0, hidden)\n",
    "# dimensionality error, this rnn implementation is NOT built like torch.nn.RNN!"
   ]
  },
  {
   "cell_type": "code",
   "execution_count": 13,
   "id": "e72858af-cf7e-4980-a799-499e0e13f280",
   "metadata": {},
   "outputs": [
    {
     "name": "stdout",
     "output_type": "stream",
     "text": [
      "('French', 4)\n"
     ]
    }
   ],
   "source": [
    "def categoryFromOutput(output):\n",
    "    top_n, top_i = output.topk(1)\n",
    "    category_i = top_i[0].item()\n",
    "    return all_categories[category_i], category_i\n",
    "\n",
    "print(categoryFromOutput(output))"
   ]
  },
  {
   "cell_type": "code",
   "execution_count": 14,
   "id": "fd501606-90c3-49ce-8594-4dc640b21f16",
   "metadata": {},
   "outputs": [
    {
     "name": "stdout",
     "output_type": "stream",
     "text": [
      "category = English / line = Albutt line tensor size:  torch.Size([6, 1, 57])\n",
      "category = Irish / line = Riain line tensor size:  torch.Size([5, 1, 57])\n",
      "category = Korean / line = Tsai  line tensor size:  torch.Size([5, 1, 57])\n",
      "category = English / line = Radford line tensor size:  torch.Size([7, 1, 57])\n",
      "category = Czech / line = Timpe line tensor size:  torch.Size([5, 1, 57])\n",
      "category = Irish / line = Rinn line tensor size:  torch.Size([4, 1, 57])\n",
      "category = Spanish / line = Santos line tensor size:  torch.Size([6, 1, 57])\n",
      "category = Spanish / line = Azarola line tensor size:  torch.Size([7, 1, 57])\n",
      "category = Chinese / line = Kuang line tensor size:  torch.Size([5, 1, 57])\n",
      "category = Korean / line = Suh line tensor size:  torch.Size([3, 1, 57])\n"
     ]
    }
   ],
   "source": [
    "import random\n",
    "\n",
    "def randomChoice(l):\n",
    "    return l[random.randint(0, len(l) - 1)]\n",
    "\n",
    "def randomTrainingExample():\n",
    "    category = randomChoice(all_categories)\n",
    "    line = randomChoice(category_lines[category])\n",
    "    category_tensor = torch.tensor([all_categories.index(category)], dtype=torch.long)\n",
    "    line_tensor = lineToTensor(line)\n",
    "    return category, line, category_tensor, line_tensor\n",
    "\n",
    "for i in range(10):\n",
    "    category, line, category_tensor, line_tensor = randomTrainingExample()\n",
    "    print('category =', category, '/ line =', line, \"line tensor size: \", line_tensor.shape)"
   ]
  },
  {
   "cell_type": "markdown",
   "id": "e3cbc438-091e-4c78-889d-9771371722b8",
   "metadata": {},
   "source": [
    "Note that the `RNN` can process names of different sizes. In this notebook sequences are called lines."
   ]
  },
  {
   "cell_type": "markdown",
   "id": "8c0695bd-794a-4a30-a686-9e81f904aff7",
   "metadata": {},
   "source": [
    "### Loss function\n",
    "We use the negative log-likelihood loss  \n",
    "Note that it is important to use a softmax at the output layer of the RNN such that they are normalized to mimic probabilities."
   ]
  },
  {
   "cell_type": "code",
   "execution_count": 15,
   "id": "9673e49b-2686-4318-bbd9-5ea51d5785fd",
   "metadata": {},
   "outputs": [],
   "source": [
    "loss_fn = nn.NLLLoss()"
   ]
  },
  {
   "cell_type": "markdown",
   "id": "c8e92678-3547-4a61-8435-71e2f23664c1",
   "metadata": {},
   "source": [
    "### Training step\n",
    "We can use the torch functionalities to obtain the gradient with `loss.backward()` (his is quite a low-level implementation)."
   ]
  },
  {
   "cell_type": "code",
   "execution_count": 16,
   "id": "3d62646c-5b91-41df-833b-5b47f74ddde8",
   "metadata": {},
   "outputs": [],
   "source": [
    "learning_rate = 0.005 # If you set this too high, it might explode. If too low, it might not learn\n",
    "\n",
    "def train(category_tensor, line_tensor):\n",
    "    # Sequential processing \"by hand\"\n",
    "    hidden = rnn.initHidden()\n",
    "\n",
    "    rnn.zero_grad()\n",
    "\n",
    "    for i in range(line_tensor.size()[0]):\n",
    "        output, hidden = rnn(line_tensor[i], hidden)\n",
    "\n",
    "    loss = loss_fn(output, category_tensor)\n",
    "    loss.backward()\n",
    "\n",
    "    # Add parameters' gradients to their values, multiplied by learning rate\n",
    "    for p in rnn.parameters():\n",
    "        p.data.add_(p.grad.data, alpha=-learning_rate)\n",
    "\n",
    "    return output, loss.item()"
   ]
  },
  {
   "cell_type": "markdown",
   "id": "e47448d2-e868-4096-b582-39e2ba72dbdf",
   "metadata": {},
   "source": [
    "### Training loop"
   ]
  },
  {
   "cell_type": "code",
   "execution_count": 17,
   "id": "2e12bdb7-1f2c-443b-bda0-863992c58b16",
   "metadata": {},
   "outputs": [
    {
     "name": "stdout",
     "output_type": "stream",
     "text": [
      "5000 5% (0m 5s) 2.7178 Trinh / Chinese ✗ (Vietnamese)\n",
      "10000 10% (0m 11s) 2.7443 Naggia / Japanese ✗ (Italian)\n",
      "15000 15% (0m 16s) 1.4538 Milligan / Irish ✓\n",
      "20000 20% (0m 22s) 2.3258 Pokorny / Czech ✗ (Polish)\n",
      "25000 25% (0m 28s) 2.2736 Asker / German ✗ (Arabic)\n",
      "30000 30% (0m 33s) 0.0658 Emelianenkov / Russian ✓\n",
      "35000 35% (0m 39s) 0.2290 Duong / Vietnamese ✓\n",
      "40000 40% (0m 44s) 0.7452 Piatek / Polish ✓\n",
      "45000 45% (0m 50s) 0.1876 Huynh / Vietnamese ✓\n",
      "50000 50% (0m 56s) 1.2142 Watson / English ✗ (Scottish)\n",
      "55000 55% (1m 1s) 0.5120 Ta / Vietnamese ✓\n",
      "60000 60% (1m 7s) 1.9090 Bradan / Arabic ✗ (Irish)\n",
      "65000 65% (1m 13s) 2.2460 Crane / French ✗ (English)\n",
      "70000 70% (1m 18s) 0.6811 Dreher / German ✓\n",
      "75000 75% (1m 24s) 1.3488 Schuhart / Dutch ✗ (German)\n",
      "80000 80% (1m 30s) 2.0596 Chukhray / Arabic ✗ (Russian)\n",
      "85000 85% (1m 35s) 3.3495 Charron / Irish ✗ (French)\n",
      "90000 90% (1m 41s) 0.8952 Choe / Korean ✓\n",
      "95000 95% (1m 47s) 3.1128 Sessa / Czech ✗ (Italian)\n",
      "100000 100% (1m 52s) 2.1511 Newcombe / German ✗ (English)\n"
     ]
    }
   ],
   "source": [
    "import time\n",
    "import math\n",
    "\n",
    "n_iters = 100000\n",
    "print_every = 5000\n",
    "plot_every = 1000\n",
    "\n",
    "\n",
    "\n",
    "# Keep track of losses for plotting\n",
    "current_loss = 0\n",
    "all_losses = []\n",
    "\n",
    "def timeSince(since):\n",
    "    now = time.time()\n",
    "    s = now - since\n",
    "    m = math.floor(s / 60)\n",
    "    s -= m * 60\n",
    "    return '%dm %ds' % (m, s)\n",
    "\n",
    "start = time.time()\n",
    "\n",
    "for iter in range(1, n_iters + 1):\n",
    "    category, line, category_tensor, line_tensor = randomTrainingExample()\n",
    "    output, loss = train(category_tensor, line_tensor)\n",
    "    current_loss += loss\n",
    "\n",
    "    # Print iter number, loss, name and guess\n",
    "    if iter % print_every == 0:\n",
    "        guess, guess_i = categoryFromOutput(output)\n",
    "        correct = '✓' if guess == category else '✗ (%s)' % category\n",
    "        print('%d %d%% (%s) %.4f %s / %s %s' % (iter, iter / n_iters * 100, timeSince(start), loss, line, guess, correct))\n",
    "\n",
    "    # Add current loss avg to list of losses\n",
    "    if iter % plot_every == 0:\n",
    "        all_losses.append(current_loss / plot_every)\n",
    "        current_loss = 0"
   ]
  },
  {
   "cell_type": "code",
   "execution_count": 18,
   "id": "5cc519a2-89f4-434f-8efd-89acf280f955",
   "metadata": {},
   "outputs": [
    {
     "data": {
      "text/plain": [
       "[<matplotlib.lines.Line2D at 0x7f03f19ac5b0>]"
      ]
     },
     "execution_count": 18,
     "metadata": {},
     "output_type": "execute_result"
    },
    {
     "data": {
      "image/png": "[encoded data removed]",
      "text/plain": [
       "<Figure size 432x288 with 1 Axes>"
      ]
     },
     "metadata": {
      "needs_background": "light"
     },
     "output_type": "display_data"
    }
   ],
   "source": [
    "import matplotlib.pyplot as plt\n",
    "import matplotlib.ticker as ticker\n",
    "\n",
    "plt.figure()\n",
    "plt.plot(all_losses)"
   ]
  },
  {
   "cell_type": "markdown",
   "id": "3f423783-8d62-442b-be01-5f36ee605bda",
   "metadata": {},
   "source": [
    "We can now test the performance of the trained network"
   ]
  },
  {
   "cell_type": "code",
   "execution_count": 19,
   "id": "07191cd3-060a-41c9-b4a3-3ed2c28ea13b",
   "metadata": {},
   "outputs": [],
   "source": [
    "# Just return an output given a line\n",
    "def evaluate(line_tensor):\n",
    "    hidden = rnn.initHidden()\n",
    "\n",
    "    for i in range(line_tensor.size()[0]):\n",
    "        output, hidden = rnn(line_tensor[i], hidden)\n",
    "\n",
    "    return output"
   ]
  },
  {
   "cell_type": "code",
   "execution_count": 20,
   "id": "37fd538c-d547-4ec2-bc46-2ea8d00cf69b",
   "metadata": {},
   "outputs": [
    {
     "name": "stdout",
     "output_type": "stream",
     "text": [
      "\n",
      "> Dovesky\n",
      "(0.81) Russian\n",
      "(0.14) Czech\n",
      "(0.02) Polish\n",
      "(0.02) English\n",
      "(0.00) French\n",
      "\n",
      "> Jackson\n",
      "(0.58) Scottish\n",
      "(0.18) English\n",
      "(0.14) Russian\n",
      "(0.02) Korean\n",
      "(0.02) Czech\n",
      "\n",
      "> Kottmann\n",
      "(0.54) Scottish\n",
      "(0.22) German\n",
      "(0.09) English\n",
      "(0.04) Japanese\n",
      "(0.02) Chinese\n"
     ]
    }
   ],
   "source": [
    "def predict(input_line, n_predictions=5):\n",
    "    print('\\n> %s' % input_line)\n",
    "    with torch.no_grad():\n",
    "        output = evaluate(lineToTensor(input_line))\n",
    "\n",
    "        # Get top N categories\n",
    "        topv, topi = output.topk(n_predictions, 1, True)\n",
    "        predictions = []\n",
    "\n",
    "        for i in range(n_predictions):\n",
    "            value = np.exp(topv[0][i].item()) #transforming logits to probabilities\n",
    "            category_index = topi[0][i].item()\n",
    "            print('(%.2f) %s' % (value, all_categories[category_index]))\n",
    "            predictions.append([value, all_categories[category_index]])\n",
    "\n",
    "predict('Dovesky')\n",
    "predict('Jackson')\n",
    "predict('Kottmann')"
   ]
  },
  {
   "cell_type": "markdown",
   "id": "34f0b75a-2158-46a4-acaa-d7ffd4f309c9",
   "metadata": {},
   "source": [
    "A more thorough analysis includes calculating the confusion matrix"
   ]
  },
  {
   "cell_type": "markdown",
   "id": "398c1557-d263-4e47-b9c5-1d094ea0ff32",
   "metadata": {},
   "source": [
    "`<unk>`, `<pad>`, `<bos>`, `<eos>`"
   ]
  },
  {
   "cell_type": "markdown",
   "id": "98c67dc3-d445-49ad-a2aa-7692f53052d8",
   "metadata": {},
   "source": [
    "`tokenize([\"Hello\", \"my\", \"name\", \"is\", \"Korbinian\", \"who\", \"are\", \"you\"])`  \n",
    "`>> [<bos>, 3, 45, 23, 14, <unk>, 23, 66, 90, <eos>, <pad>, <pad>, ...]`"
   ]
  },
  {
   "cell_type": "code",
   "execution_count": 21,
   "id": "7f2ed5b5-9524-4617-b447-e0aa028f64ce",
   "metadata": {},
   "outputs": [
    {
     "name": "stderr",
     "output_type": "stream",
     "text": [
      "<ipython-input-21-f26d6365eead>:24: UserWarning: FixedFormatter should only be used together with FixedLocator\n",
      "  ax.set_xticklabels([''] + all_categories, rotation=90)\n",
      "<ipython-input-21-f26d6365eead>:25: UserWarning: FixedFormatter should only be used together with FixedLocator\n",
      "  ax.set_yticklabels([''] + all_categories)\n"
     ]
    },
    {
     "data": {
      "image/png": "[encoded data removed]",
      "text/plain": [
       "<Figure size 432x288 with 2 Axes>"
      ]
     },
     "metadata": {
      "needs_background": "light"
     },
     "output_type": "display_data"
    }
   ],
   "source": [
    "# Keep track of correct guesses in a confusion matrix\n",
    "confusion = torch.zeros(n_categories, n_categories)\n",
    "n_confusion = 10000\n",
    "\n",
    "# Go through a bunch of examples and record which are correctly guessed\n",
    "for i in range(n_confusion):\n",
    "    category, line, category_tensor, line_tensor = randomTrainingExample()\n",
    "    output = evaluate(line_tensor)\n",
    "    guess, guess_i = categoryFromOutput(output)\n",
    "    category_i = all_categories.index(category)\n",
    "    confusion[category_i][guess_i] += 1\n",
    "\n",
    "# Normalize by dividing every row by its sum\n",
    "for i in range(n_categories):\n",
    "    confusion[i] = confusion[i] / confusion[i].sum()\n",
    "\n",
    "# Set up plot\n",
    "fig = plt.figure()\n",
    "ax = fig.add_subplot(111)\n",
    "cax = ax.matshow(confusion.numpy())\n",
    "fig.colorbar(cax)\n",
    "\n",
    "# Set up axes\n",
    "ax.set_xticklabels([''] + all_categories, rotation=90)\n",
    "ax.set_yticklabels([''] + all_categories)\n",
    "\n",
    "# Force label at every tick\n",
    "ax.xaxis.set_major_locator(ticker.MultipleLocator(1))\n",
    "ax.yaxis.set_major_locator(ticker.MultipleLocator(1))\n",
    "\n",
    "# sphinx_gallery_thumbnail_number = 2\n",
    "plt.show()"
   ]
  },
  {
   "cell_type": "markdown",
   "id": "7f9b2c87-8356-4996-aab8-eb00164e5f01",
   "metadata": {},
   "source": [
    "Quite surprisingly (to me at least), this very simple model is doing very well at predicting the country of origin of family names!"
   ]
  }
 ],
 "metadata": {
  "kernelspec": {
   "display_name": "Python 3",
   "language": "python",
   "name": "python3"
  },
  "language_info": {
   "codemirror_mode": {
    "name": "ipython",
    "version": 3
   },
   "file_extension": ".py",
   "mimetype": "text/x-python",
   "name": "python",
   "nbconvert_exporter": "python",
   "pygments_lexer": "ipython3",
   "version": "3.8.8"
  }
 },
 "nbformat": 4,
 "nbformat_minor": 5
}
